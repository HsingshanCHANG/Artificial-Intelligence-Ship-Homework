{
 "cells": [
  {
   "cell_type": "code",
   "execution_count": null,
   "metadata": {},
   "outputs": [],
   "source": [
    "AttributeError: module 'tensorflow' has no attribute 'placeholder'等问题的解决\n",
    "\n",
    "import tensorflow as tf\n",
    "print(tf.__path__)\n",
    "\n",
    "查看tf版本。我的是因为在tf2下使用了tf1的API。\n",
    "解决方式:\n",
    "\n",
    "使用\n",
    "\n",
    "import tensorflow.compat.v1 as tf\n",
    "tf.disable_v2_behavior()\n",
    "\n",
    "替换\n",
    "import tensorflow as tf\n"
   ]
  },
  {
   "cell_type": "code",
   "execution_count": null,
   "metadata": {},
   "outputs": [],
   "source": [
    "红楼梦 诗词训练结果作诗词\n",
    "\n",
    "锡飞夜\n",
    "        TensorFlow [RNN]\n",
    "    \n",
    "何处有相逢，孤云不可知。\n",
    "江城一万里，无人是白蘋。\n",
    "白雪归云远，孤舟月未深。\n",
    "此去不相送，相思何事同。"
   ]
  },
  {
   "cell_type": "code",
   "execution_count": 3,
   "metadata": {},
   "outputs": [
    {
     "data": {
      "text/plain": [
       "51"
      ]
     },
     "execution_count": 3,
     "metadata": {},
     "output_type": "execute_result"
    }
   ],
   "source": [
    "Txt=\"锡飞夜何处有相逢，孤云不可知。江城一万里，无人是白蘋。白雪归云远，孤舟月未深。此去不相送，相思何事同。\"\n",
    "len(Txt)"
   ]
  },
  {
   "cell_type": "code",
   "execution_count": null,
   "metadata": {},
   "outputs": [],
   "source": [
    "python sample.py --use_embedding --converter_path model/poetry/converter.pkl --checkpoint_path model/poetry/ --max_length 55"
   ]
  },
  {
   "cell_type": "markdown",
   "metadata": {},
   "source": [
    "## 生成诗歌\n",
    "\n",
    "训练模型:\n",
    "\n",
    "```\n",
    "python train.py --use_embedding --input_file data/poetry.txt --name poetry --learning_rate 0.005 --num_steps 26 --num_seqs 32 --max_steps 10000\n",
    "```\n",
    "\n",
    "测试结果:\n",
    "\n",
    "```\n",
    "python sample.py --use_embedding --converter_path model/poetry/converter.pkl --checkpoint_path model/poetry/ --max_length 300\n",
    "```"
   ]
  }
 ],
 "metadata": {
  "kernelspec": {
   "display_name": "Python 3",
   "language": "python",
   "name": "python3"
  },
  "language_info": {
   "codemirror_mode": {
    "name": "ipython",
    "version": 3
   },
   "file_extension": ".py",
   "mimetype": "text/x-python",
   "name": "python",
   "nbconvert_exporter": "python",
   "pygments_lexer": "ipython3",
   "version": "3.7.6"
  }
 },
 "nbformat": 4,
 "nbformat_minor": 4
}
